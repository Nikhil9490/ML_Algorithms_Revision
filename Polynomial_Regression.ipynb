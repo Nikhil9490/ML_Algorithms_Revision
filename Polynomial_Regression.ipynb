{
  "nbformat": 4,
  "nbformat_minor": 0,
  "metadata": {
    "colab": {
      "provenance": [],
      "authorship_tag": "ABX9TyNeVeNAebwW42M9c+NxzD7t",
      "include_colab_link": true
    },
    "kernelspec": {
      "name": "python3",
      "display_name": "Python 3"
    },
    "language_info": {
      "name": "python"
    }
  },
  "cells": [
    {
      "cell_type": "markdown",
      "metadata": {
        "id": "view-in-github",
        "colab_type": "text"
      },
      "source": [
        "<a href=\"https://colab.research.google.com/github/Nikhil9490/ML_Algorithms_Revision/blob/main/Polynomial_Regression.ipynb\" target=\"_parent\"><img src=\"https://colab.research.google.com/assets/colab-badge.svg\" alt=\"Open In Colab\"/></a>"
      ]
    },
    {
      "cell_type": "code",
      "execution_count": 133,
      "metadata": {
        "id": "EM8X54o_qH_j"
      },
      "outputs": [],
      "source": [
        "import numpy as np\n",
        "import pandas as pd\n",
        "import matplotlib.pyplot as plt"
      ]
    },
    {
      "cell_type": "code",
      "source": [
        "X = 6 * np.random.rand(100,1) - 3\n",
        "Y = 0.5 * X**2 + 1.5*X + np.random.randn(100,1)"
      ],
      "metadata": {
        "id": "SwCtwAtwqVil"
      },
      "execution_count": 134,
      "outputs": []
    },
    {
      "cell_type": "code",
      "source": [
        "plt.scatter(X, Y, color = 'g')\n",
        "plt.xlabel(\"X dataset\")\n",
        "plt.ylabel(\"Y dataset\")"
      ],
      "metadata": {
        "colab": {
          "base_uri": "https://localhost:8080/",
          "height": 433
        },
        "id": "o3_5NUnqqXbj",
        "outputId": "68b0e1ac-af3b-4d6a-c280-27ef7f7d736d"
      },
      "execution_count": 118,
      "outputs": [
        {
          "output_type": "execute_result",
          "data": {
            "text/plain": [
              "Text(0, 0.5, 'Y dataset')"
            ]
          },
          "metadata": {},
          "execution_count": 118
        },
        {
          "output_type": "display_data",
          "data": {
            "text/plain": [
              "<Figure size 640x480 with 1 Axes>"
            ],
            "image/png": "[encoded data removed]"
          },
          "metadata": {}
        }
      ]
    },
    {
      "cell_type": "code",
      "source": [
        "from sklearn.model_selection import train_test_split\n",
        "X_train, X_test, Y_train, Y_test = train_test_split(X, Y, test_size = 0.2, random_state = 42)"
      ],
      "metadata": {
        "id": "NfYt6YbFqXX_"
      },
      "execution_count": 119,
      "outputs": []
    },
    {
      "cell_type": "code",
      "source": [
        "#lets try simple linear regression\n",
        "from sklearn.linear_model import LinearRegression\n",
        "\n",
        "reg_1 = LinearRegression()"
      ],
      "metadata": {
        "id": "pjQn4EETqXVX"
      },
      "execution_count": 120,
      "outputs": []
    },
    {
      "cell_type": "code",
      "source": [
        "reg_1.fit(X_train, Y_train)"
      ],
      "metadata": {
        "colab": {
          "base_uri": "https://localhost:8080/",
          "height": 80
        },
        "id": "Sx3punetqXSq",
        "outputId": "ae85a078-b636-4a28-baab-e86c7be95a21"
      },
      "execution_count": 121,
      "outputs": [
        {
          "output_type": "execute_result",
          "data": {
            "text/plain": [
              "LinearRegression()"
            ],
            "text/html": [
              "<style>#sk-container-id-7 {\n",
              "  /* Definition of color scheme common for light and dark mode */\n",
              "  --sklearn-color-text: #000;\n",
              "  --sklearn-color-text-muted: #666;\n",
              "  --sklearn-color-line: gray;\n",
              "  /* Definition of color scheme for unfitted estimators */\n",
              "  --sklearn-color-unfitted-level-0: #fff5e6;\n",
              "  --sklearn-color-unfitted-level-1: #f6e4d2;\n",
              "  --sklearn-color-unfitted-level-2: #ffe0b3;\n",
              "  --sklearn-color-unfitted-level-3: chocolate;\n",
              "  /* Definition of color scheme for fitted estimators */\n",
              "  --sklearn-color-fitted-level-0: #f0f8ff;\n",
              "  --sklearn-color-fitted-level-1: #d4ebff;\n",
              "  --sklearn-color-fitted-level-2: #b3dbfd;\n",
              "  --sklearn-color-fitted-level-3: cornflowerblue;\n",
              "\n",
              "  /* Specific color for light theme */\n",
              "  --sklearn-color-text-on-default-background: var(--sg-text-color, var(--theme-code-foreground, var(--jp-content-font-color1, black)));\n",
              "  --sklearn-color-background: var(--sg-background-color, var(--theme-background, var(--jp-layout-color0, white)));\n",
              "  --sklearn-color-border-box: var(--sg-text-color, var(--theme-code-foreground, var(--jp-content-font-color1, black)));\n",
              "  --sklearn-color-icon: #696969;\n",
              "\n",
              "  @media (prefers-color-scheme: dark) {\n",
              "    /* Redefinition of color scheme for dark theme */\n",
              "    --sklearn-color-text-on-default-background: var(--sg-text-color, var(--theme-code-foreground, var(--jp-content-font-color1, white)));\n",
              "    --sklearn-color-background: var(--sg-background-color, var(--theme-background, var(--jp-layout-color0, #111)));\n",
              "    --sklearn-color-border-box: var(--sg-text-color, var(--theme-code-foreground, var(--jp-content-font-color1, white)));\n",
              "    --sklearn-color-icon: #878787;\n",
              "  }\n",
              "}\n",
              "\n",
              "#sk-container-id-7 {\n",
              "  color: var(--sklearn-color-text);\n",
              "}\n",
              "\n",
              "#sk-container-id-7 pre {\n",
              "  padding: 0;\n",
              "}\n",
              "\n",
              "#sk-container-id-7 input.sk-hidden--visually {\n",
              "  border: 0;\n",
              "  clip: rect(1px 1px 1px 1px);\n",
              "  clip: rect(1px, 1px, 1px, 1px);\n",
              "  height: 1px;\n",
              "  margin: -1px;\n",
              "  overflow: hidden;\n",
              "  padding: 0;\n",
              "  position: absolute;\n",
              "  width: 1px;\n",
              "}\n",
              "\n",
              "#sk-container-id-7 div.sk-dashed-wrapped {\n",
              "  border: 1px dashed var(--sklearn-color-line);\n",
              "  margin: 0 0.4em 0.5em 0.4em;\n",
              "  box-sizing: border-box;\n",
              "  padding-bottom: 0.4em;\n",
              "  background-color: var(--sklearn-color-background);\n",
              "}\n",
              "\n",
              "#sk-container-id-7 div.sk-container {\n",
              "  /* jupyter's `normalize.less` sets `[hidden] { display: none; }`\n",
              "     but bootstrap.min.css set `[hidden] { display: none !important; }`\n",
              "     so we also need the `!important` here to be able to override the\n",
              "     default hidden behavior on the sphinx rendered scikit-learn.org.\n",
              "     See: https://github.com/scikit-learn/scikit-learn/issues/21755 */\n",
              "  display: inline-block !important;\n",
              "  position: relative;\n",
              "}\n",
              "\n",
              "#sk-container-id-7 div.sk-text-repr-fallback {\n",
              "  display: none;\n",
              "}\n",
              "\n",
              "div.sk-parallel-item,\n",
              "div.sk-serial,\n",
              "div.sk-item {\n",
              "  /* draw centered vertical line to link estimators */\n",
              "  background-image: linear-gradient(var(--sklearn-color-text-on-default-background), var(--sklearn-color-text-on-default-background));\n",
              "  background-size: 2px 100%;\n",
              "  background-repeat: no-repeat;\n",
              "  background-position: center center;\n",
              "}\n",
              "\n",
              "/* Parallel-specific style estimator block */\n",
              "\n",
              "#sk-container-id-7 div.sk-parallel-item::after {\n",
              "  content: \"\";\n",
              "  width: 100%;\n",
              "  border-bottom: 2px solid var(--sklearn-color-text-on-default-background);\n",
              "  flex-grow: 1;\n",
              "}\n",
              "\n",
              "#sk-container-id-7 div.sk-parallel {\n",
              "  display: flex;\n",
              "  align-items: stretch;\n",
              "  justify-content: center;\n",
              "  background-color: var(--sklearn-color-background);\n",
              "  position: relative;\n",
              "}\n",
              "\n",
              "#sk-container-id-7 div.sk-parallel-item {\n",
              "  display: flex;\n",
              "  flex-direction: column;\n",
              "}\n",
              "\n",
              "#sk-container-id-7 div.sk-parallel-item:first-child::after {\n",
              "  align-self: flex-end;\n",
              "  width: 50%;\n",
              "}\n",
              "\n",
              "#sk-container-id-7 div.sk-parallel-item:last-child::after {\n",
              "  align-self: flex-start;\n",
              "  width: 50%;\n",
              "}\n",
              "\n",
              "#sk-container-id-7 div.sk-parallel-item:only-child::after {\n",
              "  width: 0;\n",
              "}\n",
              "\n",
              "/* Serial-specific style estimator block */\n",
              "\n",
              "#sk-container-id-7 div.sk-serial {\n",
              "  display: flex;\n",
              "  flex-direction: column;\n",
              "  align-items: center;\n",
              "  background-color: var(--sklearn-color-background);\n",
              "  padding-right: 1em;\n",
              "  padding-left: 1em;\n",
              "}\n",
              "\n",
              "\n",
              "/* Toggleable style: style used for estimator/Pipeline/ColumnTransformer box that is\n",
              "clickable and can be expanded/collapsed.\n",
              "- Pipeline and ColumnTransformer use this feature and define the default style\n",
              "- Estimators will overwrite some part of the style using the `sk-estimator` class\n",
              "*/\n",
              "\n",
              "/* Pipeline and ColumnTransformer style (default) */\n",
              "\n",
              "#sk-container-id-7 div.sk-toggleable {\n",
              "  /* Default theme specific background. It is overwritten whether we have a\n",
              "  specific estimator or a Pipeline/ColumnTransformer */\n",
              "  background-color: var(--sklearn-color-background);\n",
              "}\n",
              "\n",
              "/* Toggleable label */\n",
              "#sk-container-id-7 label.sk-toggleable__label {\n",
              "  cursor: pointer;\n",
              "  display: flex;\n",
              "  width: 100%;\n",
              "  margin-bottom: 0;\n",
              "  padding: 0.5em;\n",
              "  box-sizing: border-box;\n",
              "  text-align: center;\n",
              "  align-items: start;\n",
              "  justify-content: space-between;\n",
              "  gap: 0.5em;\n",
              "}\n",
              "\n",
              "#sk-container-id-7 label.sk-toggleable__label .caption {\n",
              "  font-size: 0.6rem;\n",
              "  font-weight: lighter;\n",
              "  color: var(--sklearn-color-text-muted);\n",
              "}\n",
              "\n",
              "#sk-container-id-7 label.sk-toggleable__label-arrow:before {\n",
              "  /* Arrow on the left of the label */\n",
              "  content: \"▸\";\n",
              "  float: left;\n",
              "  margin-right: 0.25em;\n",
              "  color: var(--sklearn-color-icon);\n",
              "}\n",
              "\n",
              "#sk-container-id-7 label.sk-toggleable__label-arrow:hover:before {\n",
              "  color: var(--sklearn-color-text);\n",
              "}\n",
              "\n",
              "/* Toggleable content - dropdown */\n",
              "\n",
              "#sk-container-id-7 div.sk-toggleable__content {\n",
              "  max-height: 0;\n",
              "  max-width: 0;\n",
              "  overflow: hidden;\n",
              "  text-align: left;\n",
              "  /* unfitted */\n",
              "  background-color: var(--sklearn-color-unfitted-level-0);\n",
              "}\n",
              "\n",
              "#sk-container-id-7 div.sk-toggleable__content.fitted {\n",
              "  /* fitted */\n",
              "  background-color: var(--sklearn-color-fitted-level-0);\n",
              "}\n",
              "\n",
              "#sk-container-id-7 div.sk-toggleable__content pre {\n",
              "  margin: 0.2em;\n",
              "  border-radius: 0.25em;\n",
              "  color: var(--sklearn-color-text);\n",
              "  /* unfitted */\n",
              "  background-color: var(--sklearn-color-unfitted-level-0);\n",
              "}\n",
              "\n",
              "#sk-container-id-7 div.sk-toggleable__content.fitted pre {\n",
              "  /* unfitted */\n",
              "  background-color: var(--sklearn-color-fitted-level-0);\n",
              "}\n",
              "\n",
              "#sk-container-id-7 input.sk-toggleable__control:checked~div.sk-toggleable__content {\n",
              "  /* Expand drop-down */\n",
              "  max-height: 200px;\n",
              "  max-width: 100%;\n",
              "  overflow: auto;\n",
              "}\n",
              "\n",
              "#sk-container-id-7 input.sk-toggleable__control:checked~label.sk-toggleable__label-arrow:before {\n",
              "  content: \"▾\";\n",
              "}\n",
              "\n",
              "/* Pipeline/ColumnTransformer-specific style */\n",
              "\n",
              "#sk-container-id-7 div.sk-label input.sk-toggleable__control:checked~label.sk-toggleable__label {\n",
              "  color: var(--sklearn-color-text);\n",
              "  background-color: var(--sklearn-color-unfitted-level-2);\n",
              "}\n",
              "\n",
              "#sk-container-id-7 div.sk-label.fitted input.sk-toggleable__control:checked~label.sk-toggleable__label {\n",
              "  background-color: var(--sklearn-color-fitted-level-2);\n",
              "}\n",
              "\n",
              "/* Estimator-specific style */\n",
              "\n",
              "/* Colorize estimator box */\n",
              "#sk-container-id-7 div.sk-estimator input.sk-toggleable__control:checked~label.sk-toggleable__label {\n",
              "  /* unfitted */\n",
              "  background-color: var(--sklearn-color-unfitted-level-2);\n",
              "}\n",
              "\n",
              "#sk-container-id-7 div.sk-estimator.fitted input.sk-toggleable__control:checked~label.sk-toggleable__label {\n",
              "  /* fitted */\n",
              "  background-color: var(--sklearn-color-fitted-level-2);\n",
              "}\n",
              "\n",
              "#sk-container-id-7 div.sk-label label.sk-toggleable__label,\n",
              "#sk-container-id-7 div.sk-label label {\n",
              "  /* The background is the default theme color */\n",
              "  color: var(--sklearn-color-text-on-default-background);\n",
              "}\n",
              "\n",
              "/* On hover, darken the color of the background */\n",
              "#sk-container-id-7 div.sk-label:hover label.sk-toggleable__label {\n",
              "  color: var(--sklearn-color-text);\n",
              "  background-color: var(--sklearn-color-unfitted-level-2);\n",
              "}\n",
              "\n",
              "/* Label box, darken color on hover, fitted */\n",
              "#sk-container-id-7 div.sk-label.fitted:hover label.sk-toggleable__label.fitted {\n",
              "  color: var(--sklearn-color-text);\n",
              "  background-color: var(--sklearn-color-fitted-level-2);\n",
              "}\n",
              "\n",
              "/* Estimator label */\n",
              "\n",
              "#sk-container-id-7 div.sk-label label {\n",
              "  font-family: monospace;\n",
              "  font-weight: bold;\n",
              "  display: inline-block;\n",
              "  line-height: 1.2em;\n",
              "}\n",
              "\n",
              "#sk-container-id-7 div.sk-label-container {\n",
              "  text-align: center;\n",
              "}\n",
              "\n",
              "/* Estimator-specific */\n",
              "#sk-container-id-7 div.sk-estimator {\n",
              "  font-family: monospace;\n",
              "  border: 1px dotted var(--sklearn-color-border-box);\n",
              "  border-radius: 0.25em;\n",
              "  box-sizing: border-box;\n",
              "  margin-bottom: 0.5em;\n",
              "  /* unfitted */\n",
              "  background-color: var(--sklearn-color-unfitted-level-0);\n",
              "}\n",
              "\n",
              "#sk-container-id-7 div.sk-estimator.fitted {\n",
              "  /* fitted */\n",
              "  background-color: var(--sklearn-color-fitted-level-0);\n",
              "}\n",
              "\n",
              "/* on hover */\n",
              "#sk-container-id-7 div.sk-estimator:hover {\n",
              "  /* unfitted */\n",
              "  background-color: var(--sklearn-color-unfitted-level-2);\n",
              "}\n",
              "\n",
              "#sk-container-id-7 div.sk-estimator.fitted:hover {\n",
              "  /* fitted */\n",
              "  background-color: var(--sklearn-color-fitted-level-2);\n",
              "}\n",
              "\n",
              "/* Specification for estimator info (e.g. \"i\" and \"?\") */\n",
              "\n",
              "/* Common style for \"i\" and \"?\" */\n",
              "\n",
              ".sk-estimator-doc-link,\n",
              "a:link.sk-estimator-doc-link,\n",
              "a:visited.sk-estimator-doc-link {\n",
              "  float: right;\n",
              "  font-size: smaller;\n",
              "  line-height: 1em;\n",
              "  font-family: monospace;\n",
              "  background-color: var(--sklearn-color-background);\n",
              "  border-radius: 1em;\n",
              "  height: 1em;\n",
              "  width: 1em;\n",
              "  text-decoration: none !important;\n",
              "  margin-left: 0.5em;\n",
              "  text-align: center;\n",
              "  /* unfitted */\n",
              "  border: var(--sklearn-color-unfitted-level-1) 1pt solid;\n",
              "  color: var(--sklearn-color-unfitted-level-1);\n",
              "}\n",
              "\n",
              ".sk-estimator-doc-link.fitted,\n",
              "a:link.sk-estimator-doc-link.fitted,\n",
              "a:visited.sk-estimator-doc-link.fitted {\n",
              "  /* fitted */\n",
              "  border: var(--sklearn-color-fitted-level-1) 1pt solid;\n",
              "  color: var(--sklearn-color-fitted-level-1);\n",
              "}\n",
              "\n",
              "/* On hover */\n",
              "div.sk-estimator:hover .sk-estimator-doc-link:hover,\n",
              ".sk-estimator-doc-link:hover,\n",
              "div.sk-label-container:hover .sk-estimator-doc-link:hover,\n",
              ".sk-estimator-doc-link:hover {\n",
              "  /* unfitted */\n",
              "  background-color: var(--sklearn-color-unfitted-level-3);\n",
              "  color: var(--sklearn-color-background);\n",
              "  text-decoration: none;\n",
              "}\n",
              "\n",
              "div.sk-estimator.fitted:hover .sk-estimator-doc-link.fitted:hover,\n",
              ".sk-estimator-doc-link.fitted:hover,\n",
              "div.sk-label-container:hover .sk-estimator-doc-link.fitted:hover,\n",
              ".sk-estimator-doc-link.fitted:hover {\n",
              "  /* fitted */\n",
              "  background-color: var(--sklearn-color-fitted-level-3);\n",
              "  color: var(--sklearn-color-background);\n",
              "  text-decoration: none;\n",
              "}\n",
              "\n",
              "/* Span, style for the box shown on hovering the info icon */\n",
              ".sk-estimator-doc-link span {\n",
              "  display: none;\n",
              "  z-index: 9999;\n",
              "  position: relative;\n",
              "  font-weight: normal;\n",
              "  right: .2ex;\n",
              "  padding: .5ex;\n",
              "  margin: .5ex;\n",
              "  width: min-content;\n",
              "  min-width: 20ex;\n",
              "  max-width: 50ex;\n",
              "  color: var(--sklearn-color-text);\n",
              "  box-shadow: 2pt 2pt 4pt #999;\n",
              "  /* unfitted */\n",
              "  background: var(--sklearn-color-unfitted-level-0);\n",
              "  border: .5pt solid var(--sklearn-color-unfitted-level-3);\n",
              "}\n",
              "\n",
              ".sk-estimator-doc-link.fitted span {\n",
              "  /* fitted */\n",
              "  background: var(--sklearn-color-fitted-level-0);\n",
              "  border: var(--sklearn-color-fitted-level-3);\n",
              "}\n",
              "\n",
              ".sk-estimator-doc-link:hover span {\n",
              "  display: block;\n",
              "}\n",
              "\n",
              "/* \"?\"-specific style due to the `<a>` HTML tag */\n",
              "\n",
              "#sk-container-id-7 a.estimator_doc_link {\n",
              "  float: right;\n",
              "  font-size: 1rem;\n",
              "  line-height: 1em;\n",
              "  font-family: monospace;\n",
              "  background-color: var(--sklearn-color-background);\n",
              "  border-radius: 1rem;\n",
              "  height: 1rem;\n",
              "  width: 1rem;\n",
              "  text-decoration: none;\n",
              "  /* unfitted */\n",
              "  color: var(--sklearn-color-unfitted-level-1);\n",
              "  border: var(--sklearn-color-unfitted-level-1) 1pt solid;\n",
              "}\n",
              "\n",
              "#sk-container-id-7 a.estimator_doc_link.fitted {\n",
              "  /* fitted */\n",
              "  border: var(--sklearn-color-fitted-level-1) 1pt solid;\n",
              "  color: var(--sklearn-color-fitted-level-1);\n",
              "}\n",
              "\n",
              "/* On hover */\n",
              "#sk-container-id-7 a.estimator_doc_link:hover {\n",
              "  /* unfitted */\n",
              "  background-color: var(--sklearn-color-unfitted-level-3);\n",
              "  color: var(--sklearn-color-background);\n",
              "  text-decoration: none;\n",
              "}\n",
              "\n",
              "#sk-container-id-7 a.estimator_doc_link.fitted:hover {\n",
              "  /* fitted */\n",
              "  background-color: var(--sklearn-color-fitted-level-3);\n",
              "}\n",
              "</style><div id=\"sk-container-id-7\" class=\"sk-top-container\"><div class=\"sk-text-repr-fallback\"><pre>LinearRegression()</pre><b>In a Jupyter environment, please rerun this cell to show the HTML representation or trust the notebook. <br />On GitHub, the HTML representation is unable to render, please try loading this page with nbviewer.org.</b></div><div class=\"sk-container\" hidden><div class=\"sk-item\"><div class=\"sk-estimator fitted sk-toggleable\"><input class=\"sk-toggleable__control sk-hidden--visually\" id=\"sk-estimator-id-7\" type=\"checkbox\" checked><label for=\"sk-estimator-id-7\" class=\"sk-toggleable__label fitted sk-toggleable__label-arrow\"><div><div>LinearRegression</div></div><div><a class=\"sk-estimator-doc-link fitted\" rel=\"noreferrer\" target=\"_blank\" href=\"https://scikit-learn.org/1.6/modules/generated/sklearn.linear_model.LinearRegression.html\">?<span>Documentation for LinearRegression</span></a><span class=\"sk-estimator-doc-link fitted\">i<span>Fitted</span></span></div></label><div class=\"sk-toggleable__content fitted\"><pre>LinearRegression()</pre></div> </div></div></div></div>"
            ]
          },
          "metadata": {},
          "execution_count": 121
        }
      ]
    },
    {
      "cell_type": "code",
      "source": [
        "plt.scatter(X_test, Y_test)\n",
        "plt.plot(X_test, reg_1.predict(X_test))"
      ],
      "metadata": {
        "colab": {
          "base_uri": "https://localhost:8080/",
          "height": 429
        },
        "id": "JcrmPbtJy8VS",
        "outputId": "d3336485-6a2c-4f06-f950-e43c8936e440"
      },
      "execution_count": 122,
      "outputs": [
        {
          "output_type": "execute_result",
          "data": {
            "text/plain": [
              "[<matplotlib.lines.Line2D at 0x7a70e76eb320>]"
            ]
          },
          "metadata": {},
          "execution_count": 122
        },
        {
          "output_type": "display_data",
          "data": {
            "text/plain": [
              "<Figure size 640x480 with 1 Axes>"
            ],
            "image/png": "[encoded data removed]"
          },
          "metadata": {}
        }
      ]
    },
    {
      "cell_type": "code",
      "source": [
        "from sklearn.metrics import mean_squared_error, mean_absolute_error, r2_score\n",
        "mean_squared_error(Y_test, reg_1.predict(X_test))\n"
      ],
      "metadata": {
        "colab": {
          "base_uri": "https://localhost:8080/"
        },
        "id": "RKrVTzE_y8R1",
        "outputId": "70338a92-75f2-482e-d311-cbd2d9865c68"
      },
      "execution_count": 123,
      "outputs": [
        {
          "output_type": "execute_result",
          "data": {
            "text/plain": [
              "3.8717035080950133"
            ]
          },
          "metadata": {},
          "execution_count": 123
        }
      ]
    },
    {
      "cell_type": "code",
      "source": [
        "mean_absolute_error(Y_test, reg_1.predict(X_test))"
      ],
      "metadata": {
        "colab": {
          "base_uri": "https://localhost:8080/"
        },
        "id": "djYigfHH1NE1",
        "outputId": "2162092a-744c-4b2d-efcb-686d38976ce6"
      },
      "execution_count": 124,
      "outputs": [
        {
          "output_type": "execute_result",
          "data": {
            "text/plain": [
              "1.7713774045326083"
            ]
          },
          "metadata": {},
          "execution_count": 124
        }
      ]
    },
    {
      "cell_type": "code",
      "source": [
        "r2_score(Y_test, reg_1.predict(X_test))"
      ],
      "metadata": {
        "colab": {
          "base_uri": "https://localhost:8080/"
        },
        "id": "104hFuum1hZz",
        "outputId": "71bf8b7f-992d-48ec-e0f0-62ee470bb04a"
      },
      "execution_count": 125,
      "outputs": [
        {
          "output_type": "execute_result",
          "data": {
            "text/plain": [
              "0.568336581102515"
            ]
          },
          "metadata": {},
          "execution_count": 125
        }
      ]
    },
    {
      "cell_type": "markdown",
      "source": [
        "WOW THAT WAS LAME!!!\n",
        "what we tried was ![image.png](data:image/png;base64,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)\n",
        "\n",
        "Now lets try\n",
        "![image.png](data:image/png;base64,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)"
      ],
      "metadata": {
        "id": "jO7u0gPz1-b9"
      }
    },
    {
      "cell_type": "code",
      "source": [
        "#applying polynomial transformation\n",
        "\n",
        "from sklearn.preprocessing import PolynomialFeatures"
      ],
      "metadata": {
        "id": "Ska9ZM7EwjeV"
      },
      "execution_count": 126,
      "outputs": []
    },
    {
      "cell_type": "code",
      "source": [
        "poly = PolynomialFeatures(degree = 2, include_bias = True)\n",
        "X_train_poly = poly.fit_transform(X_train)\n",
        "X_test_poly = poly.transform(X_test)"
      ],
      "metadata": {
        "id": "C3xsrtW3wjb5"
      },
      "execution_count": 127,
      "outputs": []
    },
    {
      "cell_type": "code",
      "source": [
        "X_train_poly"
      ],
      "metadata": {
        "colab": {
          "base_uri": "https://localhost:8080/"
        },
        "id": "90e5aaPC3Q_-",
        "outputId": "1e77240b-51f8-41ef-be99-463e75b3282a"
      },
      "execution_count": 128,
      "outputs": [
        {
          "output_type": "execute_result",
          "data": {
            "text/plain": [
              "array([[ 1.00000000e+00,  2.44210752e+00,  5.96388913e+00],\n",
              "       [ 1.00000000e+00,  2.25047653e+00,  5.06464460e+00],\n",
              "       [ 1.00000000e+00,  1.75389710e+00,  3.07615504e+00],\n",
              "       [ 1.00000000e+00, -2.47228868e+00,  6.11221131e+00],\n",
              "       [ 1.00000000e+00,  1.26713060e+00,  1.60561996e+00],\n",
              "       [ 1.00000000e+00,  1.60201809e+00,  2.56646198e+00],\n",
              "       [ 1.00000000e+00, -9.35729923e-01,  8.75590489e-01],\n",
              "       [ 1.00000000e+00,  5.45739537e-01,  2.97831642e-01],\n",
              "       [ 1.00000000e+00,  2.78935745e+00,  7.78051501e+00],\n",
              "       [ 1.00000000e+00, -1.63100961e+00,  2.66019234e+00],\n",
              "       [ 1.00000000e+00, -2.76910202e+00,  7.66792602e+00],\n",
              "       [ 1.00000000e+00,  8.06568483e-01,  6.50552717e-01],\n",
              "       [ 1.00000000e+00,  2.11425230e+00,  4.47006278e+00],\n",
              "       [ 1.00000000e+00,  1.29486477e-01,  1.67667478e-02],\n",
              "       [ 1.00000000e+00, -4.20950274e-01,  1.77199133e-01],\n",
              "       [ 1.00000000e+00, -2.28141388e+00,  5.20484931e+00],\n",
              "       [ 1.00000000e+00, -1.43523004e+00,  2.05988528e+00],\n",
              "       [ 1.00000000e+00, -1.25340254e+00,  1.57101792e+00],\n",
              "       [ 1.00000000e+00,  2.06934262e+00,  4.28217888e+00],\n",
              "       [ 1.00000000e+00,  4.15047525e-02,  1.72264448e-03],\n",
              "       [ 1.00000000e+00, -1.02747030e+00,  1.05569521e+00],\n",
              "       [ 1.00000000e+00, -2.98136419e+00,  8.88853243e+00],\n",
              "       [ 1.00000000e+00,  1.50480963e+00,  2.26445202e+00],\n",
              "       [ 1.00000000e+00,  1.94282347e+00,  3.77456305e+00],\n",
              "       [ 1.00000000e+00, -1.43007844e+00,  2.04512434e+00],\n",
              "       [ 1.00000000e+00,  2.66669278e+00,  7.11125036e+00],\n",
              "       [ 1.00000000e+00, -2.99070777e+00,  8.94433299e+00],\n",
              "       [ 1.00000000e+00, -1.61327494e+00,  2.60265604e+00],\n",
              "       [ 1.00000000e+00, -8.10973499e-01,  6.57678016e-01],\n",
              "       [ 1.00000000e+00,  2.89206915e+00,  8.36406397e+00],\n",
              "       [ 1.00000000e+00,  4.61605425e-01,  2.13079568e-01],\n",
              "       [ 1.00000000e+00,  2.41180134e+00,  5.81678568e+00],\n",
              "       [ 1.00000000e+00,  7.11646887e-01,  5.06441292e-01],\n",
              "       [ 1.00000000e+00,  8.90563568e-01,  7.93103469e-01],\n",
              "       [ 1.00000000e+00,  2.82497208e+00,  7.98046724e+00],\n",
              "       [ 1.00000000e+00, -1.66692148e+00,  2.77862722e+00],\n",
              "       [ 1.00000000e+00,  1.11268902e+00,  1.23807686e+00],\n",
              "       [ 1.00000000e+00,  3.69456974e-01,  1.36498456e-01],\n",
              "       [ 1.00000000e+00, -2.96996708e+00,  8.82070445e+00],\n",
              "       [ 1.00000000e+00,  2.01385924e+00,  4.05562903e+00],\n",
              "       [ 1.00000000e+00,  1.70882868e+00,  2.92009544e+00],\n",
              "       [ 1.00000000e+00,  2.85647580e-01,  8.15945398e-02],\n",
              "       [ 1.00000000e+00, -2.85949096e+00,  8.17668854e+00],\n",
              "       [ 1.00000000e+00,  1.98333711e+00,  3.93362608e+00],\n",
              "       [ 1.00000000e+00,  2.37010391e+00,  5.61739256e+00],\n",
              "       [ 1.00000000e+00,  1.61058518e+00,  2.59398462e+00],\n",
              "       [ 1.00000000e+00,  1.02321504e+00,  1.04696902e+00],\n",
              "       [ 1.00000000e+00, -2.79593556e+00,  7.81725564e+00],\n",
              "       [ 1.00000000e+00, -1.27900737e+00,  1.63585985e+00],\n",
              "       [ 1.00000000e+00,  1.87673843e+00,  3.52214713e+00],\n",
              "       [ 1.00000000e+00,  3.66735322e-01,  1.34494797e-01],\n",
              "       [ 1.00000000e+00,  8.84532791e-02,  7.82398258e-03],\n",
              "       [ 1.00000000e+00, -2.79166618e+00,  7.79340007e+00],\n",
              "       [ 1.00000000e+00, -1.44052278e+00,  2.07510587e+00],\n",
              "       [ 1.00000000e+00,  1.36156679e+00,  1.85386411e+00],\n",
              "       [ 1.00000000e+00, -1.20882151e+00,  1.46124945e+00],\n",
              "       [ 1.00000000e+00, -2.17292693e+00,  4.72161145e+00],\n",
              "       [ 1.00000000e+00,  1.20625079e-01,  1.45504097e-02],\n",
              "       [ 1.00000000e+00, -1.41478947e+00,  2.00162925e+00],\n",
              "       [ 1.00000000e+00,  1.40086057e+00,  1.96241033e+00],\n",
              "       [ 1.00000000e+00,  7.19372943e-01,  5.17497431e-01],\n",
              "       [ 1.00000000e+00,  2.18585306e+00,  4.77795358e+00],\n",
              "       [ 1.00000000e+00, -4.43014044e-01,  1.96261443e-01],\n",
              "       [ 1.00000000e+00,  2.33308714e+00,  5.44329561e+00],\n",
              "       [ 1.00000000e+00, -2.50367427e+00,  6.26838486e+00],\n",
              "       [ 1.00000000e+00,  2.48220916e-01,  6.16136231e-02],\n",
              "       [ 1.00000000e+00,  2.45083731e+00,  6.00660353e+00],\n",
              "       [ 1.00000000e+00,  1.97362183e+00,  3.89518315e+00],\n",
              "       [ 1.00000000e+00,  2.60703759e+00,  6.79664500e+00],\n",
              "       [ 1.00000000e+00,  1.16001865e+00,  1.34564327e+00],\n",
              "       [ 1.00000000e+00,  2.28031382e+00,  5.19983112e+00],\n",
              "       [ 1.00000000e+00, -7.25922918e-02,  5.26964083e-03],\n",
              "       [ 1.00000000e+00,  4.87270449e-01,  2.37432490e-01],\n",
              "       [ 1.00000000e+00,  1.90968135e+00,  3.64688285e+00],\n",
              "       [ 1.00000000e+00,  2.22079088e-02,  4.93191214e-04],\n",
              "       [ 1.00000000e+00, -1.61195940e+00,  2.59841310e+00],\n",
              "       [ 1.00000000e+00, -7.96277757e-01,  6.34058266e-01],\n",
              "       [ 1.00000000e+00,  2.94706645e+00,  8.68520068e+00],\n",
              "       [ 1.00000000e+00,  8.28208754e-01,  6.85929740e-01],\n",
              "       [ 1.00000000e+00, -7.68677161e-01,  5.90864578e-01]])"
            ]
          },
          "metadata": {},
          "execution_count": 128
        }
      ]
    },
    {
      "cell_type": "code",
      "source": [
        "X_test"
      ],
      "metadata": {
        "colab": {
          "base_uri": "https://localhost:8080/"
        },
        "id": "8Ssl2k_g3Q8f",
        "outputId": "c637596c-0377-467e-a169-c0a440add970"
      },
      "execution_count": 129,
      "outputs": [
        {
          "output_type": "execute_result",
          "data": {
            "text/plain": [
              "array([[ 2.25695684],\n",
              "       [ 1.50674543],\n",
              "       [-2.53593024],\n",
              "       [ 1.91767619],\n",
              "       [-0.38930011],\n",
              "       [-0.152075  ],\n",
              "       [-0.7594579 ],\n",
              "       [-1.36266855],\n",
              "       [ 0.54121915],\n",
              "       [-2.84541673],\n",
              "       [-1.6609274 ],\n",
              "       [ 0.92126714],\n",
              "       [ 2.41299385],\n",
              "       [-0.48297341],\n",
              "       [ 1.04869736],\n",
              "       [ 0.60090896],\n",
              "       [-0.60808515],\n",
              "       [ 1.32378242],\n",
              "       [-0.29583532],\n",
              "       [-2.82731563]])"
            ]
          },
          "metadata": {},
          "execution_count": 129
        }
      ]
    },
    {
      "cell_type": "code",
      "source": [
        "reg_2 = LinearRegression()"
      ],
      "metadata": {
        "id": "51rYJbZO8Gv1"
      },
      "execution_count": 130,
      "outputs": []
    },
    {
      "cell_type": "code",
      "source": [
        "reg_2.fit(X_train_poly, Y_train)\n",
        "r2_score(Y_test, reg_2.predict(X_test_poly))"
      ],
      "metadata": {
        "colab": {
          "base_uri": "https://localhost:8080/"
        },
        "id": "5UU0fjiK6uCS",
        "outputId": "3a3cdf4d-afd7-4790-9f69-2c06834bd753"
      },
      "execution_count": 131,
      "outputs": [
        {
          "output_type": "execute_result",
          "data": {
            "text/plain": [
              "0.8749861579097702"
            ]
          },
          "metadata": {},
          "execution_count": 131
        }
      ]
    },
    {
      "cell_type": "code",
      "source": [
        "print(reg_2.coef_)"
      ],
      "metadata": {
        "colab": {
          "base_uri": "https://localhost:8080/"
        },
        "id": "ZIhK9n_W6t6O",
        "outputId": "035c25b7-5186-441b-c900-509ef4ea0b24"
      },
      "execution_count": 135,
      "outputs": [
        {
          "output_type": "stream",
          "name": "stdout",
          "text": [
            "[[0.        1.4875196 0.5157823]]\n"
          ]
        }
      ]
    },
    {
      "cell_type": "code",
      "source": [
        "print(reg_2.intercept_)"
      ],
      "metadata": {
        "colab": {
          "base_uri": "https://localhost:8080/"
        },
        "id": "YeIYM5dv8P25",
        "outputId": "89269fa2-c2bf-40ab-ec84-7443c0f231b3"
      },
      "execution_count": 137,
      "outputs": [
        {
          "output_type": "stream",
          "name": "stdout",
          "text": [
            "[-0.03622837]\n"
          ]
        }
      ]
    },
    {
      "cell_type": "code",
      "source": [
        "plt.scatter(X_train, reg_2.predict(X_train_poly))\n",
        "plt.scatter(X_train, Y_train)"
      ],
      "metadata": {
        "colab": {
          "base_uri": "https://localhost:8080/",
          "height": 429
        },
        "id": "paY2bKyR8XvJ",
        "outputId": "5e22a51a-53a9-40d6-cdc3-943f0651def9"
      },
      "execution_count": 139,
      "outputs": [
        {
          "output_type": "execute_result",
          "data": {
            "text/plain": [
              "<matplotlib.collections.PathCollection at 0x7a70e75de690>"
            ]
          },
          "metadata": {},
          "execution_count": 139
        },
        {
          "output_type": "display_data",
          "data": {
            "text/plain": [
              "<Figure size 640x480 with 1 Axes>"
            ],
            "image/png": "[encoded data removed]"
          },
          "metadata": {}
        }
      ]
    },
    {
      "cell_type": "markdown",
      "source": [
        "what if we increase degree?"
      ],
      "metadata": {
        "id": "g70AjejK9YJs"
      }
    },
    {
      "cell_type": "code",
      "source": [
        "poly2 = PolynomialFeatures(degree = 3, include_bias = True)\n",
        "X_train_poly2 = poly2.fit_transform(X_train)\n",
        "X_test_poly2 = poly2.transform(X_test)"
      ],
      "metadata": {
        "id": "QWdgqaGC8XRT"
      },
      "execution_count": 140,
      "outputs": []
    },
    {
      "cell_type": "code",
      "source": [
        "reg_3 = LinearRegression()"
      ],
      "metadata": {
        "id": "7HmdVj2E9mse"
      },
      "execution_count": 141,
      "outputs": []
    },
    {
      "cell_type": "code",
      "source": [
        "reg_3.fit(X_train_poly2, Y_train)\n",
        "r2_score(Y_test, reg_3.predict(X_test_poly2))"
      ],
      "metadata": {
        "colab": {
          "base_uri": "https://localhost:8080/"
        },
        "id": "-WQS1W6B9mks",
        "outputId": "d1305aaa-8b48-4b37-8843-5aa168e3db7f"
      },
      "execution_count": 142,
      "outputs": [
        {
          "output_type": "execute_result",
          "data": {
            "text/plain": [
              "0.874224506914753"
            ]
          },
          "metadata": {},
          "execution_count": 142
        }
      ]
    },
    {
      "cell_type": "code",
      "source": [
        "plt.scatter(X_train, Y_train)\n",
        "plt.scatter(X_train, reg_3.predict(X_train_poly2))"
      ],
      "metadata": {
        "colab": {
          "base_uri": "https://localhost:8080/",
          "height": 429
        },
        "id": "UZ1P44gp9mYm",
        "outputId": "48bd3eee-4875-45e4-df3a-f046b874b5c6"
      },
      "execution_count": 143,
      "outputs": [
        {
          "output_type": "execute_result",
          "data": {
            "text/plain": [
              "<matplotlib.collections.PathCollection at 0x7a70e7979130>"
            ]
          },
          "metadata": {},
          "execution_count": 143
        },
        {
          "output_type": "display_data",
          "data": {
            "text/plain": [
              "<Figure size 640x480 with 1 Axes>"
            ],
            "image/png": "[encoded data removed]"
          },
          "metadata": {}
        }
      ]
    },
    {
      "cell_type": "markdown",
      "source": [
        "not much difference. in fact, an edge to degree 2 for slightly higher accuracy."
      ],
      "metadata": {
        "id": "J-woM9Ag-nPi"
      }
    },
    {
      "cell_type": "code",
      "source": [
        "#prediction for new data\n",
        "X_new = np.linspace(-3,3,200).reshape(200, 1)\n",
        "X_new_poly = poly.transform(X_new)"
      ],
      "metadata": {
        "id": "FHYaW27t-ygY"
      },
      "execution_count": 146,
      "outputs": []
    },
    {
      "cell_type": "code",
      "source": [
        "Y_new = reg_2.predict(X_new_poly)\n",
        "plt.scatter(X_new, Y_new, color = 'green', label = 'predictions')\n",
        "plt.scatter(X_train, Y_train, color = 'red', label = 'training points')\n",
        "plt.scatter(X_test, Y_test, color = 'blue', label = 'testing points')\n",
        "plt.xlabel('x')\n",
        "plt.ylabel('y')\n",
        "plt.legend()\n",
        "plt.show()"
      ],
      "metadata": {
        "colab": {
          "base_uri": "https://localhost:8080/",
          "height": 416
        },
        "id": "Pdk4lrctACLb",
        "outputId": "7325bef5-2aba-45e0-e763-13228a725ca6"
      },
      "execution_count": 151,
      "outputs": [
        {
          "output_type": "display_data",
          "data": {
            "text/plain": [
              "<Figure size 640x480 with 1 Axes>"
            ],
            "image/png": "[encoded data removed]"
          },
          "metadata": {}
        }
      ]
    }
  ]
}